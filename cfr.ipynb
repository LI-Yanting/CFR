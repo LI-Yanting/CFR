{
 "cells": [
  {
   "cell_type": "markdown",
   "metadata": {},
   "source": [
    "## Counterfactual Regret Minimization\n",
    "\n",
    "### by Lieqiang Guo & Yanting LI\n",
    "\n",
    "This is the implementation of counterfactual regret minimization on game Kuhn Poker"
   ]
  },
  {
   "cell_type": "code",
   "execution_count": 5,
   "metadata": {
    "collapsed": true
   },
   "outputs": [],
   "source": [
    "import random\n",
    "import numpy as np\n",
    "from time import time\n",
    "import matplotlib.pyplot as plt"
   ]
  },
  {
   "cell_type": "code",
   "execution_count": 6,
   "metadata": {
    "collapsed": true
   },
   "outputs": [],
   "source": [
    "class Kuhn_Porker:\n",
    "    PASS = 0\n",
    "    BET = 1\n",
    "    NUM_ACTIONS = 2\n",
    "    node_dict = {}"
   ]
  },
  {
   "cell_type": "code",
   "execution_count": 7,
   "metadata": {
    "collapsed": true
   },
   "outputs": [],
   "source": [
    "class Kuhn_Node:\n",
    "    def __init__(self, n_actions):\n",
    "        self.infoSet = ''\n",
    "        self.regretSum = np.zeros(n_actions)\n",
    "        self.strategy = np.zeros(n_actions)\n",
    "        self.strategySum = np.zeros(n_actions)\n",
    "        self.n_actions = n_actions\n",
    "        \n",
    "    def getStrategy(self,realizationWeight):\n",
    "        normalizingSum = 0\n",
    "        for i in range(self.n_actions):\n",
    "            if self.regretSum[i] > 0:\n",
    "                self.strategy[i] = self.regretSum[i]\n",
    "            else:\n",
    "                self.strategy[i] = 0\n",
    "        normalizingSum = np.sum(self.strategy)\n",
    "        if normalizingSum > 0:\n",
    "            self.strategy = self.strategy/normalizingSum\n",
    "        else:\n",
    "            self.strategy[:] = 1./self.n_actions\n",
    "        self.strategySum = self.strategySum + realizationWeight*self.strategy\n",
    "        return self.strategy\n",
    "    def getAverageStrategy(self):\n",
    "        avgStrategy = np.zeros(self.n_actions)\n",
    "        normalizingSum = np.sum(self.strategySum)\n",
    "        if normalizingSum > 0:\n",
    "            avgStrategy = self.strategySum/normalizingSum\n",
    "        else:\n",
    "            avgStrategy[:] = 1./self.n_actions\n",
    "        return avgStrategy\n",
    "    def toString(self):\n",
    "        avgStrategy = self.getAverageStrategy()\n",
    "        print(\"%4s: \"%(self.infoSet), \"[%.6f, %.6f]\" %(avgStrategy[0], avgStrategy[1]))"
   ]
  },
  {
   "cell_type": "code",
   "execution_count": 8,
   "metadata": {
    "collapsed": true
   },
   "outputs": [],
   "source": [
    "def train(itr):\n",
    "    cards = np.array([1,2,3])\n",
    "    util = 0.\n",
    "    for i in range(itr):\n",
    "        np.random.shuffle(cards)\n",
    "        util = util+cfr(cards[:2], \"\", 1, 1)\n",
    "    print(\"Average game value: \", util/itr)\n",
    "    nodeKeys = list(Kuhn_Porker.node_dict.keys())\n",
    "    nodeKeys = sorted(nodeKeys)\n",
    "    for i in nodeKeys:\n",
    "        Kuhn_Porker.node_dict[i].toString()\n",
    "def cfr(cards, history, p0, p1):\n",
    "    n_actions = 2\n",
    "    plays = len(history)\n",
    "    player = plays % 2 # mod()\n",
    "    opponent = 1-player\n",
    "    # Return payoff for terminal states\n",
    "    if plays > 1:\n",
    "        terminalPass = history[plays-1] == \"p\"\n",
    "        double_bet = history[plays-2:plays] ==\"bb\"\n",
    "        is_player_card_higher = cards[player] > cards[opponent]\n",
    "        if terminalPass:\n",
    "            if history == \"pp\":\n",
    "                return 1 if is_player_card_higher else -1\n",
    "            else:\n",
    "                return 1\n",
    "        elif(double_bet):\n",
    "                return 2 if is_player_card_higher else -2\n",
    "    \n",
    "    infoSet = str(cards[player]) + history\n",
    "    \n",
    "    # Get information set node or create it if nonexistant\n",
    "    if infoSet not in Kuhn_Porker.node_dict:\n",
    "        node  = Kuhn_Node(n_actions)\n",
    "        node.infoSet = infoSet\n",
    "        Kuhn_Porker.node_dict[infoSet] = node   \n",
    "    else:\n",
    "        node = Kuhn_Porker.node_dict[infoSet]\n",
    "    \n",
    "    # For each action, recursively call cfr with additional history and probability   \n",
    "    \n",
    "    if player == 0:\n",
    "        realizationWeight = p0\n",
    "    else:\n",
    "        realizationWeight = p1\n",
    "    strategy  = node.getStrategy(realizationWeight)\n",
    "    util = np.zeros(n_actions)\n",
    "    nodeUtil = 0\n",
    "    actions = ['p', 'b']\n",
    "    for i in range(n_actions):\n",
    "        nextHistory = history + actions[i]\n",
    "        if player == 0:\n",
    "            util[i] = -cfr(cards, nextHistory, p0*strategy[i], p1)\n",
    "        else:\n",
    "            util[i] = -cfr(cards, nextHistory, p0, p1*strategy[i])\n",
    "        nodeUtil = nodeUtil + strategy[i]*util[i]\n",
    "    \n",
    "    # For each action, compute and accumulate counterfactual regret\n",
    "    for i in range(n_actions):\n",
    "        regret = util[i] - nodeUtil\n",
    "        if player == 0:\n",
    "            node.regretSum[i] = node.regretSum[i] + p1*regret\n",
    "        else:\n",
    "            node.regretSum[i] = node.regretSum[i] + p0*regret        \n",
    "    \n",
    "    return nodeUtil"
   ]
  },
  {
   "cell_type": "code",
   "execution_count": 9,
   "metadata": {},
   "outputs": [
    {
     "name": "stdout",
     "output_type": "stream",
     "text": [
      "Average game value:  -0.0555975465859\n",
      "   1:  [0.729327, 0.270673]\n",
      "  1b:  [0.999985, 0.000015]\n",
      "  1p:  [0.662886, 0.337114]\n",
      " 1pb:  [0.999990, 0.000010]\n",
      "   2:  [0.999952, 0.000048]\n",
      "  2b:  [0.654307, 0.345693]\n",
      "  2p:  [0.999860, 0.000140]\n",
      " 2pb:  [0.391671, 0.608329]\n",
      "   3:  [0.192483, 0.807517]\n",
      "  3b:  [0.000015, 0.999985]\n",
      "  3p:  [0.000030, 0.999970]\n",
      " 3pb:  [0.000039, 0.999961]\n"
     ]
    }
   ],
   "source": [
    "Kuhn_Porker.node_dict.clear()\n",
    "train(100000)"
   ]
  }
 ],
 "metadata": {
  "kernelspec": {
   "display_name": "Python [conda env:conda_py36]",
   "language": "python",
   "name": "conda-env-conda_py36-py"
  },
  "language_info": {
   "codemirror_mode": {
    "name": "ipython",
    "version": 3
   },
   "file_extension": ".py",
   "mimetype": "text/x-python",
   "name": "python",
   "nbconvert_exporter": "python",
   "pygments_lexer": "ipython3",
   "version": "3.6.3"
  }
 },
 "nbformat": 4,
 "nbformat_minor": 2
}
