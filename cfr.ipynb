{
 "cells": [
  {
   "cell_type": "markdown",
   "metadata": {},
   "source": [
    "## Counterfactual Regret Minimization\n",
    "\n",
    "### by Lieqiang Guo & Yanting LI\n",
    "\n",
    "This is the implementation of counterfactual regret minimization on game Kuhn Poker"
   ]
  },
  {
   "cell_type": "code",
   "execution_count": 1,
   "metadata": {
    "collapsed": true
   },
   "outputs": [],
   "source": [
    "import random\n",
    "import numpy as np\n",
    "from time import time\n",
    "import matplotlib.pyplot as plt"
   ]
  },
  {
   "cell_type": "code",
   "execution_count": 2,
   "metadata": {
    "collapsed": true
   },
   "outputs": [],
   "source": [
    "class Node:\n",
    "    '''Information set node class definition'''\n",
    "    def __init__(self, node_id):\n",
    "        '''Kuhn node definitions'''\n",
    "        self.node_id = node_id\n",
    "        self.n_actions = 2\n",
    "        self.regret_sum = np.zeros(self.n_actions)\n",
    "        self.strategy = np.zeros(self.n_actions)\n",
    "        self.strategy_sum = np.zeros(self.n_actions)\n",
    "        self.avg_strategy = np.zeros(self.n_actions)\n",
    "\n",
    "    def getStrategy(self, realizationWeight):\n",
    "        '''Get current information set mixed strategy through regret-matching'''\n",
    "        self.strategy = np.copy(self.regret_sum)\n",
    "        self.strategy[self.strategy < 0] = 0 # reset negative regrets to zero\n",
    "        normalizing_sum = np.sum(self.strategy)\n",
    "        if(normalizing_sum > 0):\n",
    "            self.strategy /= normalizing_sum\n",
    "        else:\n",
    "            self.strategy = np.repeat(1 / self.n_actions, self.n_actions)\n",
    "        self.strategy_sum += realizationWeight * self.strategy\n",
    "        return self.strategy\n",
    "\n",
    "    def getAverageStrategy(self):\n",
    "        '''Get average information set mixed strategy across all training iteration'''\n",
    "        normalizing_sum = np.sum(self.strategy_sum)\n",
    "        if(normalizing_sum > 0):\n",
    "            self.avg_strategy = self.strategy / normalizing_sum\n",
    "        else:\n",
    "            self.avg_strategy = np.repeat(1.0 / self.n_actions, self.n_actions)\n",
    "        return self.avg_strategy"
   ]
  },
  {
   "cell_type": "code",
   "execution_count": 9,
   "metadata": {
    "collapsed": true
   },
   "outputs": [],
   "source": [
    "class KuhnTrainer:\n",
    "    def __init__(self, max_iter=1000000):\n",
    "        '''Contains Kuhn Poker definitions'''\n",
    "        self.max_iter = max_iter\n",
    "        self.n_actions = 2\n",
    "        self.node_list = []\n",
    "        self.node_dict = dict()\n",
    "        \n",
    "    def cfr(self, cards, action_history, p0, p1, avg_strategy=False):\n",
    "        '''Counterfactual regret minimization iteration'''\n",
    "        player = len(action_history)%2\n",
    "        opponent = 1 - player\n",
    "        \n",
    "        # Return payoff for terminal states   - Algo. line 6-7\n",
    "        nb_plays = len(action_history)\n",
    "        if(nb_plays > 1):  # If history is terminal: For a terminal states, nb_plays equals to 2 or 3\n",
    "            terminal_pass = action_history[nb_plays-1] == \"p\"\n",
    "            double_bet = action_history[nb_plays-2:nb_plays] == \"bb\"\n",
    "            is_player_card_higher = cards[player] > cards[opponent]\n",
    "            \n",
    "            if(terminal_pass):\n",
    "                if(action_history == \"pp\"):\n",
    "                    return 1 if is_player_card_higher else -1\n",
    "                else:\n",
    "                    return 1  \n",
    "                    # there are 2 possibilities here:\n",
    "                    # - pbp: current player is 3%2 = 1, so +1 to player 1\n",
    "                    # - bp:  current player is 2%2 = 0, so +1 to player 0\n",
    "            elif(double_bet):\n",
    "                return 2 if is_player_card_higher else -2\n",
    "        \n",
    "        ## It is not a terminal(decision) node, then, it is a chance node:\n",
    "        info_set = str(cards[player]) + action_history\n",
    "        \n",
    "        # Get information set node or create it if nonexistant\n",
    "        if self.node_dict.get(info_set) == None:\n",
    "            node_id = len(self.node_dict)\n",
    "            self.node_dict[info_set] = node_id\n",
    "            node = Node(node_id)\n",
    "            self.node_list.append(node)\n",
    "        else:\n",
    "            node_id = self.node_dict.get(info_set)\n",
    "            node = self.node_list[node_id]\n",
    "        \n",
    "        # For each action, recursively call cfr with additional history and reach_proba  - Algo. line 15-22\n",
    "        if(avg_strategy):\n",
    "            strategy = node.getAverageStrategy()\n",
    "        else:\n",
    "            strategy = node.getStrategy(p0 if player==0 else p1)\n",
    "        \n",
    "        util = np.zeros(self.n_actions)\n",
    "        node_util = 0\n",
    "        for a in range(self.n_actions):\n",
    "            next_history = action_history + (\"p\" if a==0 else \"b\")\n",
    "            if player == 0:\n",
    "                util[a] = - self.cfr(cards, next_history, p0*strategy[a], p1)\n",
    "            else:\n",
    "                util[a] = - self.cfr(cards, next_history, p0, p1*strategy[a])\n",
    "            node_util += strategy[a] * util[a]\n",
    "        # For each action, compute and accumulate counterfactual regret  - Algo. line 23-29\n",
    "        regret = util - node_util\n",
    "        node.regret_sum += (p1 if player==0 else p0) * regret\n",
    "        \n",
    "        return node_util   \n",
    "        \n",
    "    def train(self, avg_strategy=False):\n",
    "        '''Train Kuhn poker'''\n",
    "        cards = [1,2,3]\n",
    "        util = 0\n",
    "        track_util = []\n",
    "        for i in range(self.max_iter):\n",
    "            # Shuffle cards\n",
    "            for c1 in range(len(cards)-1, -1, -1):\n",
    "                c2 = random.randint(0,c1)\n",
    "                tmp = cards[c1]\n",
    "                cards[c1] = cards[c2]\n",
    "                cards[c2] = tmp\n",
    "            v = self.cfr(cards, \"\", 1,1, avg_strategy)\n",
    "            util += v\n",
    "            track_util.append(util)\n",
    "        print(\"Average game value: {}\".format(util/self.max_iter))\n",
    "        \n",
    "        return track_util"
   ]
  },
  {
   "cell_type": "code",
   "execution_count": 13,
   "metadata": {},
   "outputs": [
    {
     "name": "stdout",
     "output_type": "stream",
     "text": [
      "Average game value: -0.06027010959983617\n"
     ]
    }
   ],
   "source": [
    "trainer = KuhnTrainer(max_iter=10000)\n",
    "track_util = trainer.train()"
   ]
  },
  {
   "cell_type": "code",
   "execution_count": 14,
   "metadata": {},
   "outputs": [
    {
     "data": {
      "image/png": "[encoded data removed]",
      "text/plain": [
       "<matplotlib.figure.Figure at 0x1141567f0>"
      ]
     },
     "metadata": {},
     "output_type": "display_data"
    }
   ],
   "source": [
    "plt.figure()\n",
    "plt.plot(track_util)\n",
    "plt.title(\"Util in each iteration\")\n",
    "plt.show()"
   ]
  },
  {
   "cell_type": "code",
   "execution_count": 15,
   "metadata": {},
   "outputs": [
    {
     "name": "stdout",
     "output_type": "stream",
     "text": [
      "Average game value: -0.20344486847477294\n"
     ]
    }
   ],
   "source": [
    "trainer = KuhnTrainer(max_iter = 10000)\n",
    "track_util = trainer.train(avg_strategy=True)"
   ]
  },
  {
   "cell_type": "code",
   "execution_count": 16,
   "metadata": {},
   "outputs": [
    {
     "data": {
      "image/png": "[encoded data removed]",
      "text/plain": [
       "<matplotlib.figure.Figure at 0x112233e48>"
      ]
     },
     "metadata": {},
     "output_type": "display_data"
    }
   ],
   "source": [
    "plt.figure()\n",
    "plt.plot(track_util)\n",
    "plt.title(\"Util in each iteration with average strategy\")\n",
    "plt.show()"
   ]
  },
  {
   "cell_type": "code",
   "execution_count": null,
   "metadata": {
    "collapsed": true
   },
   "outputs": [],
   "source": []
  }
 ],
 "metadata": {
  "kernelspec": {
   "display_name": "Python [conda env:conda_py36]",
   "language": "python",
   "name": "conda-env-conda_py36-py"
  },
  "language_info": {
   "codemirror_mode": {
    "name": "ipython",
    "version": 3
   },
   "file_extension": ".py",
   "mimetype": "text/x-python",
   "name": "python",
   "nbconvert_exporter": "python",
   "pygments_lexer": "ipython3",
   "version": "3.6.3"
  }
 },
 "nbformat": 4,
 "nbformat_minor": 2
}
