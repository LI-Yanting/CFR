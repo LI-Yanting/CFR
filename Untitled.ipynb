{
 "cells": [
  {
   "cell_type": "markdown",
   "metadata": {},
   "source": [
    "## Implementation of Counterfactual Regret Minimization\n",
    "\n",
    "reference:\n",
    "- on Kuhn Poker: \n",
    "\n",
    "https://zhuanlan.zhihu.com/p/30438383\n",
    "\n",
    "https://github.com/tansey/pycfr\n",
    "- on Scissors-Paper-Rock(SPR):\n",
    "\n",
    "http://www.atyun.com/7659_%E5%A6%82%E4%BD%95%E6%AD%A3%E7%A1%AE%E7%9A%84%E7%8C%9C%E6%8B%B3%EF%BC%9A%E5%8F%8D%E4%BA%8B%E5%AE%9E%E9%81%97%E6%86%BE%E6%9C%80%E5%B0%8F%E5%8C%96%E7%AE%97%E6%B3%95.html\n",
    "\n",
    "https://hackernoon.com/artificial-intelligence-poker-and-regret-part-1-36c78d955720\n",
    "\n",
    "- Regret Mininization example: (pg11, pg14)\n",
    "\n",
    "https://ocw.mit.edu/courses/sloan-school-of-management/15-s50-poker-theory-and-analytics-january-iap-2015/lecture-notes/MIT15_S50IAP15_L7_GameTheor.pdf\n",
    "\n",
    "- explanation:\n",
    "\n",
    "https://www.quora.com/What-is-an-intuitive-explanation-of-counterfactual-regret-minimization"
   ]
  },
  {
   "cell_type": "code",
   "execution_count": null,
   "metadata": {
    "collapsed": true
   },
   "outputs": [],
   "source": []
  }
 ],
 "metadata": {
  "kernelspec": {
   "display_name": "Python [conda env:conda_py36]",
   "language": "python",
   "name": "conda-env-conda_py36-py"
  },
  "language_info": {
   "codemirror_mode": {
    "name": "ipython",
    "version": 3
   },
   "file_extension": ".py",
   "mimetype": "text/x-python",
   "name": "python",
   "nbconvert_exporter": "python",
   "pygments_lexer": "ipython3",
   "version": "3.6.3"
  }
 },
 "nbformat": 4,
 "nbformat_minor": 2
}
